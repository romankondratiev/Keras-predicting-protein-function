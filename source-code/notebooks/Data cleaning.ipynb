{
 "cells": [
  {
   "cell_type": "markdown",
   "metadata": {},
   "source": [
    "## Step 1: cleaning data & removing redundant data"
   ]
  },
  {
   "cell_type": "code",
   "execution_count": 2,
   "metadata": {},
   "outputs": [],
   "source": [
    "import re   \n",
    "import os\n",
    "import glob "
   ]
  },
  {
   "cell_type": "code",
   "execution_count": 1,
   "metadata": {},
   "outputs": [],
   "source": [
    "from __future__ import print_function  "
   ]
  },
  {
   "cell_type": "code",
   "execution_count": 3,
   "metadata": {},
   "outputs": [
    {
     "name": "stdout",
     "output_type": "stream",
     "text": [
      "../data-scrapes\n"
     ]
    }
   ],
   "source": [
    "scrape_dir = os.path.join('..', 'data-scrapes') #solve compatibility issue Win/Mac\n",
    "print(scrape_dir)"
   ]
  },
  {
   "cell_type": "code",
   "execution_count": 5,
   "metadata": {},
   "outputs": [
    {
     "name": "stdout",
     "output_type": "stream",
     "text": [
      "Converting sequences ... \n",
      "Writing to: ../data/protein-seqs-2019-04-21-121716.txt\n"
     ]
    }
   ],
   "source": [
    "import datetime, time\n",
    "ts = time.time()\n",
    "st = datetime.datetime.fromtimestamp(ts).strftime('%Y-%m-%d-%H%M%S') #to know when we created our files\n",
    "\n",
    "print(\"Converting sequences ... \")\n",
    "out_file = os.path.join('..', 'data', 'protein-seqs-' + st + '.txt')\n",
    "\n",
    "print(\"Writing to: %s\" % out_file)"
   ]
  },
  {
   "cell_type": "code",
   "execution_count": 6,
   "metadata": {},
   "outputs": [
    {
     "name": "stdout",
     "output_type": "stream",
     "text": [
      "['../data-scrapes/all-human-0001.fasta']\n"
     ]
    }
   ],
   "source": [
    "num_proteins_done = 0   # TODO: Remove (here to reduce complexity)\n",
    "\n",
    "# All files are read like this: \n",
    "fasta_files = glob.glob(scrape_dir + \"/*.fasta\")  #get all fasta_files available in scrape_dir\n",
    "print(fasta_files)"
   ]
  },
  {
   "cell_type": "code",
   "execution_count": 7,
   "metadata": {},
   "outputs": [],
   "source": [
    "# helper function \n",
    "\n",
    "def dump_to_file(protein_id, sequence):\n",
    "    with open(out_file, \"a\") as f:\n",
    "        f.write(protein_id + \",\" + sequence + \"\\n\")"
   ]
  },
  {
   "cell_type": "code",
   "execution_count": 10,
   "metadata": {
    "scrolled": true
   },
   "outputs": [
    {
     "name": "stdout",
     "output_type": "stream",
     "text": [
      "Converting: ../data-scrapes/all-human-0001.fasta: \n"
     ]
    }
   ],
   "source": [
    "for fname in fasta_files: #for each file\n",
    "    print(\"Converting: %s: \" % fname)\n",
    "    \n",
    "    proteins = {}   # will hold all proteins in this form ->  id: seq\n",
    "\n",
    "    with open (fname, 'r') as f:\n",
    "        protein_seq = ''\n",
    "        protein_id = ''\n",
    "        \n",
    "        for line in f: #processing each line one by one\n",
    "            \n",
    "            # Match this:   >[two chars]|[alphanumeric chars]|   \n",
    "            \n",
    "            match = re.search(r'^>([a-z]{2})\\|([A-Z0-9]*)\\|', line)  \n",
    "            if match: #we are in our header line #IF HEADERLINE THEN WE REACHED THE END, DUMP TO FILE, START A NEW ONE\n",
    "                # we matched one of the header lines \n",
    "                # - that means we're either starting the first protein record \n",
    "                # - or we're starting ANOTHER one ... in this case, we need to write the previous one to a file \n",
    "                if protein_id != '':  #if we've already seen it\n",
    "                    dump_to_file(protein_id, protein_seq) #we dump it\n",
    "\n",
    "                \n",
    "                # to make sure we process only a few points during experimentation \n",
    "                num_proteins_done += 1 \n",
    "                if num_proteins_done > 10: break   # TODO: Remove \n",
    "                    \n",
    "                    \n",
    "                # starting a new sequence \n",
    "                protein_id = match.group(2)\n",
    "                protein_seq = ''   \n",
    "    \n",
    "            else: #we are in the amino acids sequence BASICALLY HERE WE PUT THE SEQUENCE LINE BY LINE\n",
    "                # Header line not found. So, we must be seeing the protein sequences \n",
    "                protein_seq += line.strip() #appending to the protein sequence\n",
    "                \n",
    "                \n",
    "            \n",
    "                \n",
    "        if protein_id != '':  # we also need the last one dumped  #dump the last protein\n",
    "            dump_to_file(protein_id, protein_seq)"
   ]
  },
  {
   "cell_type": "markdown",
   "metadata": {},
   "source": [
    "## Step 2: selecting only ATP-binding proteins"
   ]
  },
  {
   "cell_type": "code",
   "execution_count": 25,
   "metadata": {},
   "outputs": [
    {
     "name": "stdout",
     "output_type": "stream",
     "text": [
      "Converting functions ...\n",
      "../data/protein-functions-2019-04-21-121716.txt\n"
     ]
    }
   ],
   "source": [
    "# convert function\n",
    "print(\"Converting functions ...\") \n",
    "out_file_fns = os.path.join('..', 'data', 'protein-functions-' + st + '.txt')\n",
    "print(out_file_fns)\n",
    "target_functions = ['0005524']   # just ATP binding proteins for now "
   ]
  },
  {
   "cell_type": "code",
   "execution_count": 26,
   "metadata": {},
   "outputs": [
    {
     "name": "stdout",
     "output_type": "stream",
     "text": [
      "['../data-scrapes/all-human-0001-annotations.txt']\n"
     ]
    }
   ],
   "source": [
    "annot_files = glob.glob(scrape_dir + \"/*annotations.txt\")\n",
    "print(annot_files)"
   ]
  },
  {
   "cell_type": "code",
   "execution_count": 30,
   "metadata": {},
   "outputs": [
    {
     "name": "stdout",
     "output_type": "stream",
     "text": [
      "['P27361', 'P53779', 'Q9UHC1', 'Q9NYL2', 'O15440', 'P33527', 'Q92887', 'O15438', 'O15439', 'Q5T3U5']\n"
     ]
    }
   ],
   "source": [
    "has_function = []  # a list proteins_id that have out target function\n",
    "\n",
    "for fname in annot_files:\n",
    "    with open (fname, 'r') as f:\n",
    "        for line in f:\n",
    "            #print(line)\n",
    "            match = re.search(r'([A-Z0-9]*)\\sGO:(.*);\\sF:.*;', line) #looking for  pattern\n",
    "            if match:\n",
    "                # we got the match correctly (should always happen)\n",
    "                protein_id = match.group(1) #our reges has w groups. Group = is what we put into brackets (...)\n",
    "                function = match.group(2)\n",
    "                #print(match.group(1), match.group(2))\n",
    "                \n",
    "                if function not in target_functions: #check if the function is in our target_functions\n",
    "                        continue\n",
    "                        \n",
    "                # Append the protein_id to class has_function Yay!\n",
    "                has_function.append(protein_id) \n",
    "          \n",
    "    import json\n",
    "    with open(out_file_fns, 'w') as fp:\n",
    "        json.dump(has_function, fp) #dump to the json file\n",
    "        \n",
    "    # Take a peek \n",
    "    print(has_function[:10])"
   ]
  },
  {
   "cell_type": "code",
   "execution_count": null,
   "metadata": {},
   "outputs": [],
   "source": []
  }
 ],
 "metadata": {
  "kernelspec": {
   "display_name": "Python 3",
   "language": "python",
   "name": "python3"
  },
  "language_info": {
   "codemirror_mode": {
    "name": "ipython",
    "version": 3
   },
   "file_extension": ".py",
   "mimetype": "text/x-python",
   "name": "python",
   "nbconvert_exporter": "python",
   "pygments_lexer": "ipython3",
   "version": "3.6.5"
  }
 },
 "nbformat": 4,
 "nbformat_minor": 2
}
